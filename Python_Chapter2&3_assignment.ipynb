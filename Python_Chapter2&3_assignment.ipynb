{
  "nbformat": 4,
  "nbformat_minor": 0,
  "metadata": {
    "colab": {
      "provenance": [],
      "authorship_tag": "ABX9TyNZPpXyhkrWIlcWlXHLHeeg",
      "include_colab_link": true
    },
    "kernelspec": {
      "name": "python3",
      "display_name": "Python 3"
    },
    "language_info": {
      "name": "python"
    }
  },
  "cells": [
    {
      "cell_type": "markdown",
      "metadata": {
        "id": "view-in-github",
        "colab_type": "text"
      },
      "source": [
        "<a href=\"https://colab.research.google.com/github/maji2699/Sunny/blob/main/Python_Chapter2%263_assignment.ipynb\" target=\"_parent\"><img src=\"https://colab.research.google.com/assets/colab-badge.svg\" alt=\"Open In Colab\"/></a>"
      ]
    },
    {
      "cell_type": "code",
      "source": [
        "##################################################################################################"
      ],
      "metadata": {
        "id": "FFaOOXo403B4"
      },
      "execution_count": null,
      "outputs": []
    },
    {
      "cell_type": "code",
      "source": [
        "##1.Write a script that calculates the squares and cubes of the numbers from 1 to 5.\n",
        "#Print the resulting values in a table format.  Use the tab escape sequence to achieve the output"
      ],
      "metadata": {
        "id": "Y8Qo1Zhv0sbO"
      },
      "execution_count": null,
      "outputs": []
    },
    {
      "cell_type": "code",
      "source": [
        "print('Number\\tSqaure\\tCube')\n"
      ],
      "metadata": {
        "colab": {
          "base_uri": "https://localhost:8080/"
        },
        "id": "Kjms9YmT0tgi",
        "outputId": "e43c47e4-23dc-42f3-8371-cff9936df7cb"
      },
      "execution_count": 133,
      "outputs": [
        {
          "output_type": "stream",
          "name": "stdout",
          "text": [
            "Number\tSqaure\tCube\n"
          ]
        }
      ]
    },
    {
      "cell_type": "code",
      "source": [
        "print('Number\\tSqaure\\tCube')  #'the resulting values are in a table format. so put the print with the t-tab:horizontal line.\n",
        "\n",
        "for number in range (1, 6):\n",
        "  square = number ** 2        #square  ^2\n",
        "  cube = number ** 3          #cube **exponential 3\n",
        "  print(f\"{number}\\t{square}\\t{cube}\")            #f string!!!"
      ],
      "metadata": {
        "colab": {
          "base_uri": "https://localhost:8080/"
        },
        "id": "V5A9OTPd4Rsh",
        "outputId": "8f0f9af8-1ad8-4a8c-96f6-ab16a8ebe224"
      },
      "execution_count": 135,
      "outputs": [
        {
          "output_type": "stream",
          "name": "stdout",
          "text": [
            "Number\tSqaure\tCube\n",
            "1\t1\t1\n",
            "2\t4\t8\n",
            "3\t9\t27\n",
            "4\t16\t64\n",
            "5\t25\t125\n"
          ]
        }
      ]
    },
    {
      "cell_type": "code",
      "source": [
        "print('Number\\tSqaure\\tCube')  #'the resulting values are in a table format. so put the print with the t-tab:horizontal line.\n",
        "\n",
        "for number in range (1, 6):\n",
        "  square = number ** 2        #square  ^2\n",
        "  cube = number ** 3          #cube **exponential 3\n",
        "  print(f\"{number}{square}{cube}\")  #if i dont usu the tab escape(\\), its result looks like this(not 1 1 1)"
      ],
      "metadata": {
        "colab": {
          "base_uri": "https://localhost:8080/"
        },
        "id": "FdSQBhHu6fcE",
        "outputId": "82aef53b-fc22-4831-c5c1-aa80f27f1945"
      },
      "execution_count": 139,
      "outputs": [
        {
          "output_type": "stream",
          "name": "stdout",
          "text": [
            "Number\tSqaure\tCube\n",
            "111\n",
            "248\n",
            "3927\n",
            "41664\n",
            "525125\n"
          ]
        }
      ]
    },
    {
      "cell_type": "code",
      "source": [
        "##############################################################################################################################"
      ],
      "metadata": {
        "id": "sN8ENDt60ukI"
      },
      "execution_count": null,
      "outputs": []
    },
    {
      "cell_type": "code",
      "source": [
        "#Question2: Write a script that inputs three integers from a user. Display the sum,average, product, smallest and greatest of the numbers.\n",
        "#Be sure to label each output."
      ],
      "metadata": {
        "id": "vVfseX_SXP1X"
      },
      "execution_count": null,
      "outputs": []
    },
    {
      "cell_type": "code",
      "execution_count": 1,
      "metadata": {
        "colab": {
          "base_uri": "https://localhost:8080/"
        },
        "id": "FMoy4ppzVTlw",
        "outputId": "10c877f9-bd49-4a35-c763-719f2effa2a6"
      },
      "outputs": [
        {
          "name": "stdout",
          "output_type": "stream",
          "text": [
            "Write the first integer:2\n"
          ]
        }
      ],
      "source": [
        "a = int(input('Write the first integer:'))"
      ]
    },
    {
      "cell_type": "code",
      "source": [
        "b = int(input('Write the second integer:'))"
      ],
      "metadata": {
        "colab": {
          "base_uri": "https://localhost:8080/"
        },
        "id": "oBQ6jFtNVWfU",
        "outputId": "32981024-e0c3-4d39-ff58-e22eafa2c2b3"
      },
      "execution_count": 2,
      "outputs": [
        {
          "name": "stdout",
          "output_type": "stream",
          "text": [
            "Write the first integer:3\n"
          ]
        }
      ]
    },
    {
      "cell_type": "code",
      "source": [
        "c = int(input('Write the third integer:'))"
      ],
      "metadata": {
        "colab": {
          "base_uri": "https://localhost:8080/"
        },
        "id": "SjyyEv1eVb6U",
        "outputId": "bb5fd66c-bf5c-43a9-9387-be53676704bd"
      },
      "execution_count": 3,
      "outputs": [
        {
          "name": "stdout",
          "output_type": "stream",
          "text": [
            "Write the third integer:4\n"
          ]
        }
      ]
    },
    {
      "cell_type": "code",
      "source": [
        "total = a + b + c"
      ],
      "metadata": {
        "id": "99-1PGskWIyn"
      },
      "execution_count": 8,
      "outputs": []
    },
    {
      "cell_type": "code",
      "source": [
        "sum = total\n",
        "print(sum)"
      ],
      "metadata": {
        "colab": {
          "base_uri": "https://localhost:8080/"
        },
        "id": "VTDdgdGDVj1e",
        "outputId": "7efa3eef-1390-428b-8950-dd3f225c20d5"
      },
      "execution_count": 11,
      "outputs": [
        {
          "output_type": "stream",
          "name": "stdout",
          "text": [
            "9\n"
          ]
        }
      ]
    },
    {
      "cell_type": "code",
      "source": [
        "average = total/3\n",
        "print(average)"
      ],
      "metadata": {
        "colab": {
          "base_uri": "https://localhost:8080/"
        },
        "id": "_evc7ZFQVl5K",
        "outputId": "7cbc5a6b-ec5f-44d5-8126-268394ce71c4"
      },
      "execution_count": 12,
      "outputs": [
        {
          "output_type": "stream",
          "name": "stdout",
          "text": [
            "3.0\n"
          ]
        }
      ]
    },
    {
      "cell_type": "code",
      "source": [
        "product = a * b * c\n",
        "print(product)"
      ],
      "metadata": {
        "colab": {
          "base_uri": "https://localhost:8080/"
        },
        "id": "sXb2gwpsWV_Y",
        "outputId": "aa9f08d1-8492-4e0e-af18-57adf83a43e8"
      },
      "execution_count": 13,
      "outputs": [
        {
          "output_type": "stream",
          "name": "stdout",
          "text": [
            "24\n"
          ]
        }
      ]
    },
    {
      "cell_type": "code",
      "source": [
        "smallest = min(a,b,c)\n",
        "print(smallest)"
      ],
      "metadata": {
        "colab": {
          "base_uri": "https://localhost:8080/"
        },
        "id": "623K22FRW1rw",
        "outputId": "0e5677d8-dfeb-4534-9719-480ceb56f95b"
      },
      "execution_count": 15,
      "outputs": [
        {
          "output_type": "stream",
          "name": "stdout",
          "text": [
            "2\n"
          ]
        }
      ]
    },
    {
      "cell_type": "code",
      "source": [
        "greatest = max(a,b,c)\n",
        "print(greatest)"
      ],
      "metadata": {
        "colab": {
          "base_uri": "https://localhost:8080/"
        },
        "id": "Z85y6VtsW-Ry",
        "outputId": "ebbd817a-2a50-450b-ec0e-fda2ccfdf588"
      },
      "execution_count": 16,
      "outputs": [
        {
          "output_type": "stream",
          "name": "stdout",
          "text": [
            "4\n"
          ]
        }
      ]
    },
    {
      "cell_type": "code",
      "source": [
        "##########################################################################################3"
      ],
      "metadata": {
        "id": "TITfIBFJ0m6R"
      },
      "execution_count": null,
      "outputs": []
    },
    {
      "cell_type": "code",
      "source": [
        "############# Q3. Create a loop that finds the largest number of 10 numbers that the user enters."
      ],
      "metadata": {
        "id": "u86wGddQXFb5"
      },
      "execution_count": null,
      "outputs": []
    },
    {
      "cell_type": "code",
      "source": [
        "numbers = [2,450,39,29,9,59,38,55,84,10]"
      ],
      "metadata": {
        "id": "CXYeO9Y_aVoE"
      },
      "execution_count": 32,
      "outputs": []
    },
    {
      "cell_type": "code",
      "source": [
        "largest = 0   ##just assign any number for the starting number for seeking the largest number. I gave 0 for the starting number."
      ],
      "metadata": {
        "id": "8ZSJpgmnaoWQ"
      },
      "execution_count": 29,
      "outputs": []
    },
    {
      "cell_type": "code",
      "source": [
        "for num in numbers:         #'For' looping: I put the random 10 numbers and assigned as 'numbers'\n",
        "  if num > largest:         # using 'if', find the largest number\n",
        "    largest = num"
      ],
      "metadata": {
        "id": "aKcWJ7PldVQV"
      },
      "execution_count": 30,
      "outputs": []
    },
    {
      "cell_type": "code",
      "source": [
        "print(\"The large number is:\", largest)"
      ],
      "metadata": {
        "colab": {
          "base_uri": "https://localhost:8080/"
        },
        "id": "KLK3-Nfsda83",
        "outputId": "81d70659-cdfe-460a-87c3-3c15587cea41"
      },
      "execution_count": 31,
      "outputs": [
        {
          "output_type": "stream",
          "name": "stdout",
          "text": [
            "The large number is: 450\n"
          ]
        }
      ]
    },
    {
      "cell_type": "code",
      "source": [
        "###############################################################################################################################3"
      ],
      "metadata": {
        "id": "vbGQxmub0pwH"
      },
      "execution_count": null,
      "outputs": []
    },
    {
      "cell_type": "code",
      "source": [
        "##4. Write a script that inputs a purchase price of a dollar or less.\n",
        "#    Assume the purchaser pays with a dollar bill.\n",
        "#    Determine the amount of change the cashier should give back to them.\n",
        "#    Display the change using the fewest amount of pennies, nickels, dimes, and quarters.\n",
        "\n",
        "#For example, if the purchaser is due 73 cents, the output should be:\n",
        "#Your change is:\n",
        "#    2 quarters\n",
        "#    2 dimes\n",
        "#    3 pennies\n"
      ],
      "metadata": {
        "id": "AfI5WPfgdkKu"
      },
      "execution_count": null,
      "outputs": []
    },
    {
      "cell_type": "code",
      "source": [
        "change = int(input(\"How much cents did you receive?(a dollar is 100cents): \"))"
      ],
      "metadata": {
        "colab": {
          "base_uri": "https://localhost:8080/"
        },
        "id": "GcF99RkgurUa",
        "outputId": "b3c3c35f-7e40-47af-c7aa-66c9239dfc2e"
      },
      "execution_count": 112,
      "outputs": [
        {
          "name": "stdout",
          "output_type": "stream",
          "text": [
            "How much cents did you receive?(a dollar is 100cents): 73\n"
          ]
        }
      ]
    },
    {
      "cell_type": "code",
      "source": [
        "quarters = 0\n",
        "dimes = 0\n",
        "pennies = 0"
      ],
      "metadata": {
        "id": "yQQUUbOFuu8A"
      },
      "execution_count": 113,
      "outputs": []
    },
    {
      "cell_type": "code",
      "source": [
        "while change >= 25:\n",
        "    quarters += 1\n",
        "    change -= 25\n",
        "\n",
        "while change >= 10:\n",
        "    dimes += 1\n",
        "    change -= 10\n",
        "\n",
        "pennies = change"
      ],
      "metadata": {
        "id": "N0r9A7UPmsVe"
      },
      "execution_count": 117,
      "outputs": []
    },
    {
      "cell_type": "code",
      "source": [
        "print(\"Your change is:\")\n",
        "if quarters > 0:\n",
        "    print(quarters, \"quarters\")\n",
        "if dimes > 0:\n",
        "    print(dimes, \"dimes\")\n",
        "if pennies > 0:\n",
        "    print(pennies, \"pennies\")"
      ],
      "metadata": {
        "colab": {
          "base_uri": "https://localhost:8080/"
        },
        "id": "fGgEUffhoI9E",
        "outputId": "0e1a65c8-4674-4c83-d73d-e58436628e46"
      },
      "execution_count": 119,
      "outputs": [
        {
          "output_type": "stream",
          "name": "stdout",
          "text": [
            "Your change is:\n",
            "2 quarters\n",
            "2 dimes\n",
            "3 pennies\n"
          ]
        }
      ]
    },
    {
      "cell_type": "code",
      "source": [
        "while change >= 25:\n",
        "    quarters += 1\n",
        "    change -= 25\n",
        "    if quarters > 0:\n",
        "        print(quarters, \"quarters\")"
      ],
      "metadata": {
        "id": "AgHGdEjryyuk"
      },
      "execution_count": 94,
      "outputs": []
    },
    {
      "cell_type": "code",
      "source": [],
      "metadata": {
        "id": "zUWtuVy3y2OA"
      },
      "execution_count": null,
      "outputs": []
    }
  ]
}